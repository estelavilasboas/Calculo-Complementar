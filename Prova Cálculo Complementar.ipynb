{
  "nbformat": 4,
  "nbformat_minor": 0,
  "metadata": {
    "colab": {
      "name": "Prova Cálculo Complementar.ipynb",
      "provenance": [],
      "collapsed_sections": []
    },
    "kernelspec": {
      "name": "python3",
      "display_name": "Python 3"
    }
  },
  "cells": [
    {
      "cell_type": "markdown",
      "metadata": {
        "id": "mm55HO1K-06h",
        "colab_type": "text"
      },
      "source": [
        "# Dependências"
      ]
    },
    {
      "cell_type": "code",
      "metadata": {
        "id": "seqcVgXr-0rA",
        "colab_type": "code",
        "colab": {}
      },
      "source": [
        "import numpy as np\n",
        "import matplotlib.pyplot as plt\n",
        "import sympy as sym \n",
        "\n",
        "# Símbolos necessários para os problemas\n",
        "x_symbol, y_symbol = sym.symbols( 'x y' )\n",
        "w_symbol, h_symbol = sym.symbols( 'w h' )"
      ],
      "execution_count": 0,
      "outputs": []
    },
    {
      "cell_type": "markdown",
      "metadata": {
        "id": "YUGRqDc--9Kj",
        "colab_type": "text"
      },
      "source": [
        "# Problemas"
      ]
    },
    {
      "cell_type": "markdown",
      "metadata": {
        "id": "g7nKmFsQ-Rnn",
        "colab_type": "text"
      },
      "source": [
        "**Problema 01:**  Estima-se que a produção semanal de uma fábrica é dada pela função f(x,y) = 1200x+ 500y+ x^2*y – x^3 – y^2\n",
        "unidades, onde x é o número de operários\n",
        "especializados e y o número de operários não especializados utilizados no trabalho. No\n",
        "momento, a mão de obra disponível é constituída por 30 operários especializados e 60\n",
        "operários não especializados. Use a análise marginal para estimar a variação da\n",
        "produção se mais 1 operário especializado for contratado e o número de operários não\n",
        "especializado permanecer constante."
      ]
    },
    {
      "cell_type": "code",
      "metadata": {
        "id": "is0BupBm-uuu",
        "colab_type": "code",
        "outputId": "75005416-7e06-401b-ca58-2dc0f744c7dc",
        "colab": {
          "base_uri": "https://localhost:8080/",
          "height": 51
        }
      },
      "source": [
        "func = 1200*x_symbol + 500*y_symbol + (x_symbol**2)*y_symbol - (x_symbol**3) - y_symbol**2\n",
        "derivada = str(sym.diff(func, x_symbol)) # em relação a x\n",
        "f_analise = lambda x, y: eval(derivada)\n",
        "print('Análise marginal: ', f_analise(30, 60))\n",
        "\n",
        "f_x = lambda x,y: 1200*x + 500*y + (x**2)*y - (x**3) - y**2\n",
        "print('Taxa de variação da produção: ', f_x(31, 60) - f_x(30,60))"
      ],
      "execution_count": 124,
      "outputs": [
        {
          "output_type": "stream",
          "text": [
            "Análise marginal:  2100\n",
            "Taxa de variação da produção:  2069\n"
          ],
          "name": "stdout"
        }
      ]
    },
    {
      "cell_type": "markdown",
      "metadata": {
        "id": "KyYIr9O_TwfL",
        "colab_type": "text"
      },
      "source": [
        "\n",
        "**Problema 02:** Um empresário calcula que, quando x unidades de um certo produto são\n",
        "fabricadas, o lucro é dado por f(x) = - 400x²+ 6.800x-12.000 reais. Qual é a taxa de\n",
        "variação do lucro em relação ao nível de produção xquando estão sendo produzidas\n",
        "9.000 unidades? Justifique a resposta."
      ]
    },
    {
      "cell_type": "code",
      "metadata": {
        "id": "uy_Hbuv2TuiI",
        "colab_type": "code",
        "colab": {
          "base_uri": "https://localhost:8080/",
          "height": 255
        },
        "outputId": "75eb5207-a961-4dfc-ddfb-3ad765e9e0fb"
      },
      "source": [
        "func = -400*x_symbol**2+ 6800*x_symbol-12000\n",
        "derivada = sym.diff(f, x_symbol)\n",
        "print(' A partir da função, obtemos a derivada: ', derivada)\n",
        "\n",
        "f_taxa = lambda x: eval(str(derivada))\n",
        "print(' A taxa de variação do lucro de 9000 unidades resulta em: \\n\\t', f_taxa(9000))\n",
        "\n",
        "print('\\n A função do lucro pode ser utilizada para obter a variação a partir de sua derivação.')\n",
        "print(' Com isso, é necessário apenas aplicar na derivada resultante as unidades desejadas, ')\n",
        "print('nesse caso, 9000 unidades. Como resultado temos: \\n\\t-7193200.')\n",
        "\n",
        "f_x = lambda x: -400*x**2+ 6800*x-12000\n",
        "print(' \\n Desejando analisar este resultado, podemos aplicar na derivada os pontos 9001 e 9000')\n",
        "print('(que representam o número de unidades) e subtrair os resultados entre si:', f_x(9001) - f_x(9000))\n",
        "print(' Portanto, pode-se afirmar que, como os resultados estão muito próximos (-7193200 e ')\n",
        "print('-7193600), obtivemos uma boa acurácia, porém a produção apresentada pelo problema irá')\n",
        "print('gerar prejuízos.')\n"
      ],
      "execution_count": 125,
      "outputs": [
        {
          "output_type": "stream",
          "text": [
            " A partir da função, obtemos a derivada:  0\n",
            " A taxa de variação do lucro de 9000 unidades resulta em: \n",
            "\t 0\n",
            "\n",
            " A função do lucro pode ser utilizada para obter a variação a partir de sua derivação.\n",
            " Com isso, é necessário apenas aplicar na derivada resultante as unidades desejadas, \n",
            "nesse caso, 9000 unidades. Como resultado temos: \n",
            "\t-7193200.\n",
            " \n",
            " Desejando analisar este resultado, podemos aplicar na derivada os pontos 9001 e 9000\n",
            "(que representam o número de unidades) e subtrair os resultados entre si: -7193600\n",
            " Portanto, pode-se afirmar que, como os resultados estão muito próximos (-7193200 e \n",
            "-7193600), obtivemos uma boa acurácia, porém a produção apresentada pelo problema irá\n",
            "gerar prejuízos.\n"
          ],
          "name": "stdout"
        }
      ]
    },
    {
      "cell_type": "markdown",
      "metadata": {
        "id": "yu-mQlNsVqfW",
        "colab_type": "text"
      },
      "source": [
        "**Problema 03:** ÁREA SUPERFICIAL DO CORPO HUMANO É dada pela expressão\n",
        "empírica S(W, H) = 0,0072W^(0,425) H^(0,725) , onde W (Kg) e H(cm), são, respectivamente, o\n",
        "peso e a altura da pessoa. No momento, uma certa criança pesa 34Kg e tem 1m e 20cm\n",
        "de altura. "
      ]
    },
    {
      "cell_type": "code",
      "metadata": {
        "id": "TLDDugqaV5C_",
        "colab_type": "code",
        "colab": {
          "base_uri": "https://localhost:8080/",
          "height": 187
        },
        "outputId": "842afa2e-525a-42b9-9038-edb58d3dd3ec"
      },
      "source": [
        "w = 34\n",
        "h = 120\n",
        "func = 0.0072*w_symbol**0.425*h_symbol**0.725\n",
        "\n",
        "derivada_w = sym.diff(f, w_symbol)\n",
        "print('Calculando derivada parcial da função em w: \\n\\t', derivada_w)\n",
        "taxa_w = lambda w, h: eval(str(derivada_w))\n",
        "print('Calculando a variação a partir da derivada w : \\n\\t', taxa_w(50, 163))\n",
        "\n",
        "derivada_h = sym.diff(f, h_symbol)\n",
        "print('Calculando derivada parcial da função em h: \\n\\t', derivada_h)\n",
        "taxa_h = lambda w, h: eval(str(derivada_h))\n",
        "print('Calculando a variação a partir da derivada h: \\n\\t', taxa_h(50, 163))\n",
        "\n",
        "print('Calculando a variação da área superficial \\n\\t', taxa_w(w+1, h))"
      ],
      "execution_count": 126,
      "outputs": [
        {
          "output_type": "stream",
          "text": [
            "Calculando derivada parcial da função em w: \n",
            "\t 0.00306*h**0.725*w**(-0.575)\n",
            "Calculando a variação a partir da derivada w : \n",
            "\t 0.01296133355545553\n",
            "Calculando derivada parcial da função em h: \n",
            "\t 0.00522*h**(-0.275)*w**0.425\n",
            "Calculando a variação a partir da derivada h: \n",
            "\t 0.00678236508675948\n",
            "Calculando a variação da área superficial \n",
            "\t 0.012743499444844668\n"
          ],
          "name": "stdout"
        }
      ]
    }
  ]
}